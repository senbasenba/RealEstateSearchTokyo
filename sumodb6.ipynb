{
 "cells": [
  {
   "cell_type": "code",
   "execution_count": 4,
   "metadata": {},
   "outputs": [
    {
     "name": "stderr",
     "output_type": "stream",
     "text": [
      "100%|██████████| 57/57 [04:03<00:00,  4.28s/it]"
     ]
    },
    {
     "name": "stdout",
     "output_type": "stream",
     "text": [
      "             title    address  \\\n",
      "0       リューズ・リバー月島  東京都中央区月島４   \n",
      "1       リューズ・リバー月島  東京都中央区月島４   \n",
      "2       リューズ・リバー月島  東京都中央区月島４   \n",
      "3       リューズ・リバー月島  東京都中央区月島４   \n",
      "4  ザ・ライオンズフォーシア八丁堀   東京都中央区湊１   \n",
      "5  ザ・ライオンズフォーシア八丁堀   東京都中央区湊１   \n",
      "6  ザ・ライオンズフォーシア八丁堀   東京都中央区湊１   \n",
      "7  ザ・ライオンズフォーシア八丁堀   東京都中央区湊１   \n",
      "8  ザ・ライオンズフォーシア八丁堀   東京都中央区湊１   \n",
      "9  ザ・ライオンズフォーシア八丁堀   東京都中央区湊１   \n",
      "\n",
      "                                              access  age  floor  cost  \\\n",
      "0  \\n都営大江戸線/勝どき駅 歩6分\\n東京メトロ有楽町線/月島駅 歩8分\\n東京メトロ日比谷...   26      4    17   \n",
      "1  \\n都営大江戸線/勝どき駅 歩6分\\n東京メトロ有楽町線/月島駅 歩8分\\n東京メトロ日比谷...   26      5    20   \n",
      "2  \\n都営大江戸線/勝どき駅 歩6分\\n東京メトロ有楽町線/月島駅 歩8分\\n東京メトロ日比谷...   26      5    21   \n",
      "3  \\n都営大江戸線/勝どき駅 歩6分\\n東京メトロ有楽町線/月島駅 歩8分\\n東京メトロ日比谷...   26      3    21   \n",
      "4  \\nＪＲ京葉線/八丁堀駅 歩5分\\n東京メトロ有楽町線/新富町駅 歩9分\\n東京メトロ日比谷...   10      2    20   \n",
      "5  \\nＪＲ京葉線/八丁堀駅 歩5分\\n東京メトロ有楽町線/新富町駅 歩9分\\n東京メトロ日比谷...   10      3    21   \n",
      "6  \\nＪＲ京葉線/八丁堀駅 歩5分\\n東京メトロ有楽町線/新富町駅 歩9分\\n東京メトロ日比谷...   10      4    21   \n",
      "7  \\nＪＲ京葉線/八丁堀駅 歩5分\\n東京メトロ有楽町線/新富町駅 歩9分\\n東京メトロ日比谷...   10      5    21   \n",
      "8  \\nＪＲ京葉線/八丁堀駅 歩5分\\n東京メトロ有楽町線/新富町駅 歩9分\\n東京メトロ日比谷...   10      7    22   \n",
      "9  \\nＪＲ京葉線/八丁堀駅 歩5分\\n東京メトロ有楽町線/新富町駅 歩9分\\n東京メトロ日比谷...   10     10    23   \n",
      "\n",
      "  management_fee deposit qratuity layout  size Area  \n",
      "0         10000円  17.1万円   17.1万円   2LDK    56  中央区  \n",
      "1         15000円  20.7万円   20.7万円    3DK    66  中央区  \n",
      "2         15000円    21万円        -   3LDK    66  中央区  \n",
      "3         15000円  21.4万円   21.4万円   3LDK    66  中央区  \n",
      "4         20000円  20.5万円        -    2DK    40  中央区  \n",
      "5         20000円  21.2万円        -    2DK    40  中央区  \n",
      "6         20000円  21.4万円        -    2DK    40  中央区  \n",
      "7         20000円  21.9万円        -    2DK    40  中央区  \n",
      "8         20000円  22.3万円        -    2DK    40  中央区  \n",
      "9         20000円    23万円        -    2DK    40  中央区  \n"
     ]
    },
    {
     "name": "stderr",
     "output_type": "stream",
     "text": [
      "\n",
      "C:\\Users\\admin\\AppData\\Local\\Temp\\ipykernel_15100\\303195129.py:87: SettingWithCopyWarning: \n",
      "A value is trying to be set on a copy of a slice from a DataFrame.\n",
      "Try using .loc[row_indexer,col_indexer] = value instead\n",
      "\n",
      "See the caveats in the documentation: https://pandas.pydata.org/pandas-docs/stable/user_guide/indexing.html#returning-a-view-versus-a-copy\n",
      "  df_no_duplicates['Area'] = df_no_duplicates['address'].apply(extract_area)\n"
     ]
    }
   ],
   "source": [
    "import requests\n",
    "from bs4 import BeautifulSoup\n",
    "import pandas as pd\n",
    "import re\n",
    "from time import sleep\n",
    "from tqdm import tqdm\n",
    "\n",
    "# SUUMOから物件情報を取得する関数\n",
    "def scrape_suumo(url):\n",
    "    res = requests.get(url)\n",
    "    soup = BeautifulSoup(res.text, 'html.parser')\n",
    "    \n",
    "    contents = soup.find_all('div', class_='cassetteitem')\n",
    "    data_list = []\n",
    "\n",
    "    for content in contents:\n",
    "        detail = content.find('div', class_='cassetteitem-detail')\n",
    "        table = content.find('table', class_='cassetteitem_other')\n",
    "\n",
    "        title = detail.find('div', class_='cassetteitem_content-title').text\n",
    "        address = detail.find('li', class_='cassetteitem_detail-col1').text\n",
    "        access = detail.find('li', class_='cassetteitem_detail-col2').text\n",
    "        age_text = detail.find('li', class_='cassetteitem_detail-col3').text\n",
    "        age_match = re.search(r'\\d+', age_text)\n",
    "        age = int(age_match.group()) if age_match else None\n",
    "\n",
    "        tr_tags = table.find_all('tr', class_='js-cassette_link')\n",
    "\n",
    "        for tr_tag in tr_tags:\n",
    "            floor_text = re.search(r'\\d+', tr_tag.find_all(\"td\")[2].text)\n",
    "            floor = int(floor_text.group()) if floor_text else None\n",
    "\n",
    "            price, first_fee, capacity = tr_tag.find_all(\"td\")[3:6]\n",
    "            fee, management_fee = price.find_all('li')\n",
    "            deposit, qratuity = first_fee.find_all('li')\n",
    "            madori, menseki = capacity.find_all('li')\n",
    "\n",
    "            cost_text = re.search(r'\\d+', fee.text)\n",
    "            cost = int(cost_text.group()) if cost_text else None\n",
    "\n",
    "            size_text = re.search(r'\\d+', menseki.text)\n",
    "            size = int(size_text.group()) if size_text else None\n",
    "\n",
    "            d = {\n",
    "                \"title\": title,\n",
    "                \"address\": address,\n",
    "                \"access\": access,\n",
    "                \"age\": age,\n",
    "                \"floor\": floor,\n",
    "                \"cost\": cost,\n",
    "                \"management_fee\": management_fee.text,\n",
    "                \"deposit\": deposit.text,\n",
    "                \"qratuity\": qratuity.text,\n",
    "                \"layout\": madori.text,\n",
    "                \"size\": size,\n",
    "            }\n",
    "\n",
    "            data_list.append(d)\n",
    "\n",
    "    return data_list\n",
    "\n",
    "# メインの処理\n",
    "url_template = 'https://suumo.jp/jj/chintai/ichiran/FR301FC001/?ar=030&bs=040&pc=30&smk=&po1=25&po2=99&shkr1=03&shkr2=03&shkr3=03&shkr4=03&sc=13101&sc=13102&sc=13103&sc=13104&sc=13113&ta=13&cb=0.0&ct=30.0&md=06&md=07&md=09&md=10&md=11&md=13&md=14&ts=1&et=9999999&mb=0&mt=9999999&cn=9999999&fw2='\n",
    "last_page = int(BeautifulSoup(requests.get(url_template.format(1)).text, 'html.parser').find('ol', class_='pagination-parts').find_all('li')[-1].text)\n",
    "\n",
    "# 全ページのデータを取得\n",
    "all_data = []\n",
    "for i in tqdm(range(1, last_page+1)):\n",
    "    target_url = url_template.format(i)\n",
    "    data_list = scrape_suumo(target_url)\n",
    "    all_data.extend(data_list)\n",
    "    sleep(1)\n",
    "\n",
    "# データをデータフレームに変換\n",
    "df_all_data = pd.DataFrame(all_data)\n",
    "\n",
    "# address、age、floor、costが同じ場合に重複とみなし、重複を排除\n",
    "df_no_duplicates = df_all_data.drop_duplicates(subset=['address', 'age', 'floor', 'cost'])\n",
    "\n",
    "# 住所から区を抽出して新しい列 'Area' を作成\n",
    "def extract_area(address):\n",
    "    match = re.search(r'東京都(.*?)区', address)\n",
    "    if match:\n",
    "        return match.group(1) + \"区\"\n",
    "    return None\n",
    "\n",
    "df_no_duplicates['Area'] = df_no_duplicates['address'].apply(extract_area)\n",
    "\n",
    "# CSVファイルに保存（Shift-JISエンコーディング）\n",
    "df_no_duplicates.to_csv('sumodb6.csv', index=False, encoding='shift_jis')\n",
    "\n",
    "# CSVファイルからデータを読み込み\n",
    "df = pd.read_csv('sumodb6.csv', encoding='shift_jis')\n",
    "\n",
    "# \"cost\" 列を数値列に変換\n",
    "df['cost'] = pd.to_numeric(df['cost'], errors='coerce')\n",
    "\n",
    "# 変換に成功したかどうかを確認\n",
    "is_numeric = pd.notna(df['cost'])\n",
    "\n",
    "# データフレームの最初の10行を表示\n",
    "print(df.head(10))\n"
   ]
  },
  {
   "cell_type": "code",
   "execution_count": 5,
   "metadata": {},
   "outputs": [],
   "source": [
    "# CSVファイルにShift-JISでエンコードして保存\n",
    "df_no_duplicates.to_csv('sumodb6.csv', index=False, encoding='shift_jis')"
   ]
  },
  {
   "cell_type": "code",
   "execution_count": 11,
   "metadata": {},
   "outputs": [
    {
     "name": "stdout",
     "output_type": "stream",
     "text": [
      "Database created successfully.\n"
     ]
    }
   ],
   "source": [
    "import sqlite3\n",
    "import pandas as pd\n",
    "\n",
    "# SQLiteデータベースに接続\n",
    "conn = sqlite3.connect('sumodb6.db')\n",
    "\n",
    "# CSVファイルからデータを読み込む\n",
    "csv_file = 'sumodb6.csv'\n",
    "df = pd.read_csv(csv_file, encoding='shift_jis')\n",
    "\n",
    "# データフレームをSQLiteデータベースに書き込む\n",
    "df.to_sql('sumodb6_table', conn, if_exists='replace', index=False)\n",
    "\n",
    "# 接続を閉じる\n",
    "conn.close()\n",
    "\n",
    "print('Database created successfully.')\n",
    "\n"
   ]
  },
  {
   "cell_type": "code",
   "execution_count": 10,
   "metadata": {},
   "outputs": [
    {
     "data": {
      "text/plain": [
       "71"
      ]
     },
     "execution_count": 10,
     "metadata": {},
     "output_type": "execute_result"
    }
   ],
   "source": []
  },
  {
   "cell_type": "code",
   "execution_count": null,
   "metadata": {},
   "outputs": [],
   "source": []
  }
 ],
 "metadata": {
  "kernelspec": {
   "display_name": "Python 3",
   "language": "python",
   "name": "python3"
  },
  "language_info": {
   "codemirror_mode": {
    "name": "ipython",
    "version": 3
   },
   "file_extension": ".py",
   "mimetype": "text/x-python",
   "name": "python",
   "nbconvert_exporter": "python",
   "pygments_lexer": "ipython3",
   "version": "3.12.1"
  }
 },
 "nbformat": 4,
 "nbformat_minor": 2
}
